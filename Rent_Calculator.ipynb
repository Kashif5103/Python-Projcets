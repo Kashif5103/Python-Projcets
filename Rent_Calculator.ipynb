{
  "cells": [
    {
      "cell_type": "markdown",
      "metadata": {
        "colab_type": "text",
        "id": "view-in-github"
      },
      "source": [
        "<a href=\"https://colab.research.google.com/github/Kashif5103/Python-Projcets/blob/main/Rent_Calculator.ipynb\" target=\"_parent\"><img src=\"https://colab.research.google.com/assets/colab-badge.svg\" alt=\"Open In Colab\"/></a>"
      ]
    },
    {
      "cell_type": "markdown",
      "metadata": {
        "id": "HDALA6S93pNq"
      },
      "source": [
        "# Mini Project Rent Calculator"
      ]
    },
    {
      "cell_type": "code",
      "execution_count": 4,
      "metadata": {
        "colab": {
          "base_uri": "https://localhost:8080/"
        },
        "id": "wFiehm1a3y69",
        "outputId": "03a2a807-893c-4c78-b538-d8acfacfa154"
      },
      "outputs": [
        {
          "name": "stdout",
          "output_type": "stream",
          "text": [
            "You have to pay the total amount of: 15150\n",
            "The amount each person has to pay is: 3030.0\n"
          ]
        }
      ],
      "source": [
        "# Input statements to get user data\n",
        "rent = int(input(\"Enter your Flat Rent: \"))\n",
        "food = int(input('Enter the amount of your food and other expenses: '))\n",
        "elec = int(input(\"Enter the Electricity Units: \"))\n",
        "cost = int(input(\"Enter the cost per unit: \"))\n",
        "person = int(input(\"Enter the number of people living in the flat: \"))\n",
        "\n",
        "# Calculating the electricity bill\n",
        "bill = elec * cost\n",
        "\n",
        "# Calculating the total expenses\n",
        "total = rent + food + bill\n",
        "\n",
        "# Printing the total amount\n",
        "print(\"You have to pay the total amount of:\", total)\n",
        "\n",
        "# Calculating the amount each person has to pay\n",
        "per_person = total / person\n",
        "\n",
        "# Printing the per person amount\n",
        "print(\"The amount each person has to pay is:\", per_person)\n"
      ]
    },
    {
      "cell_type": "code",
      "execution_count": 6,
      "metadata": {},
      "outputs": [
        {
          "name": "stdout",
          "output_type": "stream",
          "text": [
            "Welcome to the Advanced Rent Calculator!\n",
            "\n",
            "\n",
            "You have to pay the total amount of: 18,400.00\n",
            "The amount each person has to pay is: 6,133.33\n",
            "\n",
            "Monthly Expenses Breakdown:\n",
            "Rent: 8,500.00\n",
            "Food: 5,600.00\n",
            "Electricity: 1,800.00\n",
            "Other Expenses: 2,500.00\n",
            "\n",
            "Total Income: 30,000.00\n",
            "Total Expenses: 18,400.00\n",
            "Savings: 11,600.00\n",
            "Great! You are saving a good amount this month.\n",
            "\n",
            "You saved 5,600.00 compared to the previous month.\n"
          ]
        }
      ],
      "source": [
        "def get_positive_int(prompt):\n",
        "    \"\"\"Get a positive integer input from the user.\"\"\"\n",
        "    while True:\n",
        "        try:\n",
        "            value = int(input(prompt))\n",
        "            if value < 0:\n",
        "                raise ValueError\n",
        "            return value\n",
        "        except ValueError:\n",
        "            print(\"Please enter a valid positive integer.\")\n",
        "\n",
        "def calculate_total_expenses(rent, food, electricity_bill, other_expenses):\n",
        "    \"\"\"Calculate the total monthly expenses.\"\"\"\n",
        "    return rent + food + electricity_bill + other_expenses\n",
        "\n",
        "def display_breakdown(rent, food, electricity_bill, other_expenses):\n",
        "    \"\"\"Display the detailed breakdown of expenses.\"\"\"\n",
        "    print(\"\\nMonthly Expenses Breakdown:\")\n",
        "    print(f\"Rent: {rent:,.2f}\")\n",
        "    print(f\"Food: {food:,.2f}\")\n",
        "    print(f\"Electricity: {electricity_bill:,.2f}\")\n",
        "    print(f\"Other Expenses: {other_expenses:,.2f}\")\n",
        "\n",
        "def calculate_savings(total_income, total_expenses):\n",
        "    \"\"\"Calculate savings and provide advice.\"\"\"\n",
        "    savings = total_income - total_expenses\n",
        "    print(f\"\\nTotal Income: {total_income:,.2f}\")\n",
        "    print(f\"Total Expenses: {total_expenses:,.2f}\")\n",
        "    print(f\"Savings: {savings:,.2f}\")\n",
        "    if savings < 0:\n",
        "        print(\"You are overspending. Consider reducing your expenses.\")\n",
        "    elif savings < total_income * 0.1:\n",
        "        print(\"Try to save at least 10% of your income for better financial health.\")\n",
        "    else:\n",
        "        print(\"Great! You are saving a good amount this month.\")\n",
        "\n",
        "def compare_with_previous_month(previous_expenses, current_expenses):\n",
        "    \"\"\"Compare current expenses with previous month's expenses.\"\"\"\n",
        "    difference = current_expenses - previous_expenses\n",
        "    if difference > 0:\n",
        "        print(f\"\\nYou spent {difference:,.2f} more this month compared to the previous month.\")\n",
        "    elif difference < 0:\n",
        "        print(f\"\\nYou saved {-difference:,.2f} compared to the previous month.\")\n",
        "    else:\n",
        "        print(\"\\nYour spending is the same as the previous month.\")\n",
        "\n",
        "def main():\n",
        "    print(\"Welcome to the Advanced Rent Calculator!\\n\")\n",
        "\n",
        "    # Input data\n",
        "    rent = get_positive_int(\"Enter your Flat Rent: \")\n",
        "    food = get_positive_int(\"Enter the amount of your food expenses: \")\n",
        "    elec_units = get_positive_int(\"Enter the Electricity Units: \")\n",
        "    cost_per_unit = get_positive_int(\"Enter the cost per unit: \")\n",
        "    other_expenses = get_positive_int(\"Enter your other expenses (e.g., transportation, Internet): \")\n",
        "    total_income = get_positive_int(\"Enter your total monthly income: \")\n",
        "    previous_expenses = get_positive_int(\"Enter your total expenses for the previous month (for comparison): \")\n",
        "    num_people = get_positive_int(\"Enter the number of people living in the flat: \")\n",
        "\n",
        "    # Calculating the electricity bill\n",
        "    electricity_bill = elec_units * cost_per_unit\n",
        "\n",
        "    # Calculating the total expenses\n",
        "    total_expenses = calculate_total_expenses(rent, food, electricity_bill, other_expenses)\n",
        "\n",
        "    # Printing the total amount\n",
        "    print(\"\\nYou have to pay the total amount of:\", f\"{total_expenses:,.2f}\")\n",
        "\n",
        "    # Calculating the amount each person has to pay\n",
        "    per_person = total_expenses / num_people\n",
        "\n",
        "    # Printing the per person amount\n",
        "    print(\"The amount each person has to pay is:\", f\"{per_person:,.2f}\")\n",
        "\n",
        "    # Displaying breakdown\n",
        "    display_breakdown(rent, food, electricity_bill, other_expenses)\n",
        "\n",
        "    # Calculating savings\n",
        "    calculate_savings(total_income, total_expenses)\n",
        "\n",
        "    # Comparing with previous month's expenses\n",
        "    compare_with_previous_month(previous_expenses, total_expenses)\n",
        "\n",
        "if __name__ == \"__main__\":\n",
        "    main()\n"
      ]
    },
    {
      "cell_type": "code",
      "execution_count": null,
      "metadata": {},
      "outputs": [],
      "source": []
    }
  ],
  "metadata": {
    "colab": {
      "authorship_tag": "ABX9TyP8KNvzC29HIdglGJyi8wy9",
      "include_colab_link": true,
      "provenance": []
    },
    "kernelspec": {
      "display_name": "Python 3",
      "name": "python3"
    },
    "language_info": {
      "codemirror_mode": {
        "name": "ipython",
        "version": 3
      },
      "file_extension": ".py",
      "mimetype": "text/x-python",
      "name": "python",
      "nbconvert_exporter": "python",
      "pygments_lexer": "ipython3",
      "version": "3.12.2"
    }
  },
  "nbformat": 4,
  "nbformat_minor": 0
}
