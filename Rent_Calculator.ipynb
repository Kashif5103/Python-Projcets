{
  "nbformat": 4,
  "nbformat_minor": 0,
  "metadata": {
    "colab": {
      "provenance": [],
      "authorship_tag": "ABX9TyP8KNvzC29HIdglGJyi8wy9",
      "include_colab_link": true
    },
    "kernelspec": {
      "name": "python3",
      "display_name": "Python 3"
    },
    "language_info": {
      "name": "python"
    }
  },
  "cells": [
    {
      "cell_type": "markdown",
      "metadata": {
        "id": "view-in-github",
        "colab_type": "text"
      },
      "source": [
        "<a href=\"https://colab.research.google.com/github/Kashif5103/Python-Projcets/blob/main/Rent_Calculator.ipynb\" target=\"_parent\"><img src=\"https://colab.research.google.com/assets/colab-badge.svg\" alt=\"Open In Colab\"/></a>"
      ]
    },
    {
      "cell_type": "code",
      "execution_count": null,
      "metadata": {
        "id": "m17CmJAR3cMa"
      },
      "outputs": [],
      "source": []
    },
    {
      "cell_type": "markdown",
      "source": [
        "# Mini Project Rent Calculator"
      ],
      "metadata": {
        "id": "HDALA6S93pNq"
      }
    },
    {
      "cell_type": "code",
      "source": [
        "# Input statements to get user data\n",
        "rent = int(input(\"Enter your Flat Rent: \"))\n",
        "food = int(input('Enter the amount of your food and other expenses: '))\n",
        "elec = int(input(\"Enter the Electricity Units: \"))\n",
        "cost = int(input(\"Enter the cost per unit: \"))\n",
        "person = int(input(\"Enter the number of people living in the flat: \"))\n",
        "\n",
        "# Calculating the electricity bill\n",
        "bill = elec * cost\n",
        "\n",
        "# Calculating the total expenses\n",
        "total = rent + food + bill\n",
        "\n",
        "# Printing the total amount\n",
        "print(\"You have to pay the total amount of:\", total)\n",
        "\n",
        "# Calculating the amount each person has to pay\n",
        "per_person = total / person\n",
        "\n",
        "# Printing the per person amount\n",
        "print(\"The amount each person has to pay is:\", per_person)\n"
      ],
      "metadata": {
        "colab": {
          "base_uri": "https://localhost:8080/"
        },
        "id": "wFiehm1a3y69",
        "outputId": "03a2a807-893c-4c78-b538-d8acfacfa154"
      },
      "execution_count": 1,
      "outputs": [
        {
          "output_type": "stream",
          "name": "stdout",
          "text": [
            "Enter your Flat Rent: 9000\n",
            "Enter the amount of your food and other expenses: 4525\n",
            "Enter the Electricity Units: 29\n",
            "Enter the cost per unit: 30\n",
            "Enter the number of people living in the flat: 3\n",
            "You have to pay the total amount of: 14395\n",
            "The amount each person has to pay is: 4798.333333333333\n"
          ]
        }
      ]
    },
    {
      "cell_type": "code",
      "source": [],
      "metadata": {
        "id": "vL6ZMfu030yY"
      },
      "execution_count": null,
      "outputs": []
    }
  ]
}