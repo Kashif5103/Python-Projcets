{
  "nbformat": 4,
  "nbformat_minor": 0,
  "metadata": {
    "colab": {
      "provenance": [],
      "gpuType": "T4",
      "authorship_tag": "ABX9TyMp/g454+Gj+3SwXjpca0C3"
    },
    "kernelspec": {
      "name": "python3",
      "display_name": "Python 3"
    },
    "language_info": {
      "name": "python"
    },
    "accelerator": "GPU"
  },
  "cells": [
    {
      "cell_type": "markdown",
      "source": [
        "# Calculator"
      ],
      "metadata": {
        "id": "oKuMNfDa3_6G"
      }
    },
    {
      "cell_type": "code",
      "source": [
        "from tkinter import Tk, Entry, Button, StringVar\n",
        "\n",
        "class Calculator:\n",
        "    def __init__(self, master):\n",
        "        master.title(\"Calculator\")\n",
        "        master.geometry('357x420+0+0')\n",
        "        master.config(bg='gray')\n",
        "        master.resizable(False, False)\n",
        "\n",
        "        self.equation = StringVar()\n",
        "        self.entry_value = ''\n",
        "        Entry(width=17, bg='#ccddff', font=('Arial Bold', 28), textvariable=self.equation).place(x=0, y=0)\n",
        "        Button(width=11, height=4, text='(', relief='flat', bg='white', command=lambda: self.show('(')).place(x=0, y=50)\n",
        "        Button(width=11, height=4, text=')', relief='flat', bg='white', command=lambda: self.show(')')).place(x=90, y=50)\n",
        "        Button(width=11, height=4, text='%', relief='flat', bg='white', command=lambda: self.show('%')).place(x=180, y=50)\n",
        "        Button(width=11, height=4, text='1', relief='flat', bg='white', command=lambda: self.show(1)).place(x=0, y=125)\n",
        "        Button(width=11, height=4, text='2', relief='flat', bg='white', command=lambda: self.show(2)).place(x=90, y=125)\n",
        "        Button(width=11, height=4, text='3', relief='flat', bg='white', command=lambda: self.show(3)).place(x=180, y=125)\n",
        "        Button(width=11, height=4, text='4', relief='flat', bg='white', command=lambda: self.show(4)).place(x=0, y=200)\n",
        "        Button(width=11, height=4, text='5', relief='flat', bg='white', command=lambda: self.show(5)).place(x=90, y=200)\n",
        "        Button(width=11, height=4, text='6', relief='flat', bg='white', command=lambda: self.show(6)).place(x=180, y=200)\n",
        "        Button(width=11, height=4, text='7', relief='flat', bg='white', command=lambda: self.show(7)).place(x=0, y=275)\n",
        "        Button(width=11, height=4, text='8', relief='flat', bg='white', command=lambda: self.show(8)).place(x=180, y=275)\n",
        "        Button(width=11, height=4, text='9', relief='flat', bg='white', command=lambda: self.show(9)).place(x=90, y=275)\n",
        "        Button(width=11, height=4, text='0', relief='flat', bg='white', command=lambda: self.show(0)).place(x=90, y=350)\n",
        "        Button(width=11, height=4, text='.', relief='flat', bg='white', command=lambda: self.show('.')).place(x=180, y=350)\n",
        "        Button(width=11, height=4, text='+', relief='flat', bg='white', command=lambda: self.show('+')).place(x=270, y=275)\n",
        "        Button(width=11, height=4, text='-', relief='flat', bg='white', command=lambda: self.show('-')).place(x=270, y=200)\n",
        "        Button(width=11, height=4, text='/', relief='flat', bg='white', command=lambda: self.show('/')).place(x=270, y=50)\n",
        "        Button(width=11, height=4, text='x', relief='flat', bg='white', command=lambda: self.show('*')).place(x=270, y=125)\n",
        "        Button(width=11, height=4, text='=', relief='flat', bg='lightblue', command=self.solve).place(x=270, y=350)\n",
        "        Button(width=11, height=4, text='C', relief='flat', bg='yellow', command=self.clear).place(x=0, y=350)\n",
        "\n",
        "    def show(self, value):\n",
        "        self.entry_value += str(value)\n",
        "        self.equation.set(self.entry_value)\n",
        "\n",
        "    def clear(self):\n",
        "        self.entry_value = ''\n",
        "        self.equation.set(self.entry_value)\n",
        "\n",
        "    def solve(self):\n",
        "        result = eval(self.entry_value)\n",
        "        self.equation.set(result)\n",
        "\n",
        "root = Tk()\n",
        "calculator = Calculator(root)\n",
        "root.mainloop()"
      ],
      "metadata": {
        "id": "fSjg-7hQ4JA6"
      },
      "execution_count": 2,
      "outputs": []
    },
    {
      "cell_type": "code",
      "source": [],
      "metadata": {
        "id": "mkdjpJ9z6Qd-"
      },
      "execution_count": 2,
      "outputs": []
    },
    {
      "cell_type": "code",
      "source": [],
      "metadata": {
        "id": "slKswSix6sEU"
      },
      "execution_count": null,
      "outputs": []
    }
  ]
}