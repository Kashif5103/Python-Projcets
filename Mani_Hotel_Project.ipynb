{
  "nbformat": 4,
  "nbformat_minor": 0,
  "metadata": {
    "colab": {
      "provenance": [],
      "authorship_tag": "ABX9TyP0spXPe+vH9qvlnjfUCeFH",
      "include_colab_link": true
    },
    "kernelspec": {
      "name": "python3",
      "display_name": "Python 3"
    },
    "language_info": {
      "name": "python"
    }
  },
  "cells": [
    {
      "cell_type": "markdown",
      "metadata": {
        "id": "view-in-github",
        "colab_type": "text"
      },
      "source": [
        "<a href=\"https://colab.research.google.com/github/Kashif5103/Python-Projcets/blob/main/Mani_Hotel_Project.ipynb\" target=\"_parent\"><img src=\"https://colab.research.google.com/assets/colab-badge.svg\" alt=\"Open In Colab\"/></a>"
      ]
    },
    {
      "cell_type": "markdown",
      "source": [
        "# Hotel Manu Project"
      ],
      "metadata": {
        "id": "NeDR3-UjoEQi"
      }
    },
    {
      "cell_type": "code",
      "execution_count": 2,
      "metadata": {
        "colab": {
          "base_uri": "https://localhost:8080/"
        },
        "id": "UAzUxwQfnypT",
        "outputId": "efdec783-4de2-4db9-b5c8-ff0db50d0680"
      },
      "outputs": [
        {
          "output_type": "stream",
          "name": "stdout",
          "text": [
            "Welcome to The MK Restaurant\n",
            "Pizza: RS 800\n",
            "Burger: RS 100\n",
            "Coffee: RS 120\n",
            "Shawarma: RS 110\n",
            "Cold Coffee: RS 80\n",
            "Enter the item you want to order: Coffee\n",
            "Your item Coffee has been added to your order\n",
            "Do you want to order another item? (Yes/No): Yes\n",
            "Enter the name of the second item: Burger\n",
            "Item Burger has been added to your order\n",
            "The total amount to pay is 220 RS\n"
          ]
        }
      ],
      "source": [
        "# Define the menu with item names as keys and their prices as values\n",
        "menu = {\n",
        "    \"Pizza\": 800,\n",
        "    \"Burger\": 100,\n",
        "    \"Coffee\": 120,\n",
        "    \"Shawarma\": 110,\n",
        "    \"Cold coffee\": 80,\n",
        "}\n",
        "\n",
        "# Greet the customer\n",
        "print('Welcome to The MK Restaurant')\n",
        "\n",
        "# Show the menu items with their prices\n",
        "print(\"Pizza: RS 800\\nBurger: RS 100\\nCoffee: RS 120\\nShawarma: RS 110\\nCold Coffee: RS 80\")\n",
        "\n",
        "# Initialize the total cost to zero\n",
        "order_total = 0\n",
        "\n",
        "# Prompt the customer to enter the first item they want to order\n",
        "item_1 = input(\"Enter the item you want to order: \")\n",
        "\n",
        "# Check if the entered item is in the menu\n",
        "if item_1 in menu:\n",
        "    # Add the price of the item to the total order cost\n",
        "    order_total += menu[item_1]\n",
        "    # Confirm the item has been added to the order\n",
        "    print(f\"Your item {item_1} has been added to your order\")\n",
        "else:\n",
        "    # Inform the customer that the entered item is not available\n",
        "    print(f\"Order item {item_1} is not available\")\n",
        "\n",
        "# Ask the customer if they want to order another item\n",
        "another_item = input(\"Do you want to order another item? (Yes/No): \")\n",
        "\n",
        "# If the customer wants to order another item\n",
        "if another_item == \"Yes\":\n",
        "    # Prompt the customer to enter the name of the second item\n",
        "    item_2 = input(\"Enter the name of the second item: \")\n",
        "    # Check if the entered item is in the menu\n",
        "    if item_2 in menu:\n",
        "        # Add the price of the item to the total order cost\n",
        "        order_total += menu[item_2]\n",
        "        # Confirm the item has been added to the order\n",
        "        print(f\"Item {item_2} has been added to your order\")\n",
        "    else:\n",
        "        # Inform the customer that the entered item is not available\n",
        "        print(f\"Order item {item_2} is not available\")\n",
        "\n",
        "# Print the total amount the customer needs to pay\n",
        "print(f\"The total amount to pay is {order_total} RS\")\n"
      ]
    },
    {
      "cell_type": "code",
      "source": [],
      "metadata": {
        "id": "NZG2gIMeoSe7"
      },
      "execution_count": null,
      "outputs": []
    }
  ]
}