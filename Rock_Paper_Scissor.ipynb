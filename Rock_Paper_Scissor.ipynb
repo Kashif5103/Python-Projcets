{
  "nbformat": 4,
  "nbformat_minor": 0,
  "metadata": {
    "colab": {
      "provenance": [],
      "authorship_tag": "ABX9TyOfjykOsgbd5YaER8tke1t3",
      "include_colab_link": true
    },
    "kernelspec": {
      "name": "python3",
      "display_name": "Python 3"
    },
    "language_info": {
      "name": "python"
    }
  },
  "cells": [
    {
      "cell_type": "markdown",
      "metadata": {
        "id": "view-in-github",
        "colab_type": "text"
      },
      "source": [
        "<a href=\"https://colab.research.google.com/github/Kashif5103/Python-Projcets/blob/main/Rock_Paper_Scissor.ipynb\" target=\"_parent\"><img src=\"https://colab.research.google.com/assets/colab-badge.svg\" alt=\"Open In Colab\"/></a>"
      ]
    },
    {
      "cell_type": "code",
      "execution_count": 1,
      "metadata": {
        "colab": {
          "base_uri": "https://localhost:8080/"
        },
        "id": "Izg7mXckEFGY",
        "outputId": "33fe0820-570f-4ba6-d9ff-381c336dd1d6"
      },
      "outputs": [
        {
          "output_type": "stream",
          "name": "stdout",
          "text": [
            "Enter Your Move (Rock, Paper, Scissor): Rock\n",
            "User choice = Rock, Computer choice = Rock\n",
            "Both chose the same: Match Tie\n"
          ]
        }
      ],
      "source": [
        "import random  # Import the random module for generating random choices\n",
        "\n",
        "# List of possible moves\n",
        "item_list = ['Rock', 'Paper', 'Scissor']\n",
        "\n",
        "# Prompt the user to enter their move\n",
        "user_choice = input(\"Enter Your Move (Rock, Paper, Scissor): \")\n",
        "\n",
        "# Randomly select a move for the computer\n",
        "comp_choice = random.choice(item_list)\n",
        "\n",
        "# Print both the user's choice and the computer's choice\n",
        "print(f\"User choice = {user_choice}, Computer choice = {comp_choice}\")\n",
        "\n",
        "# Check if the user's choice is the same as the computer's choice\n",
        "if user_choice == comp_choice:\n",
        "    print(\"Both chose the same: Match Tie\")\n",
        "\n",
        "# Check all possible outcomes where the user chooses 'Rock'\n",
        "elif user_choice == 'Rock':\n",
        "    if comp_choice == \"Paper\":\n",
        "        print(\"Paper covers Rock = Computer Wins\")\n",
        "    else:  # The only remaining option is 'Scissor'\n",
        "        print(\"Rock smashes Scissor = You Win\")\n",
        "\n",
        "# Check all possible outcomes where the user chooses 'Paper'\n",
        "elif user_choice == 'Paper':\n",
        "    if comp_choice == \"Scissor\":\n",
        "        print(\"Scissor cuts Paper = Computer Wins\")\n",
        "    else:  # The only remaining option is 'Rock'\n",
        "        print(\"Paper covers Rock = You Win\")\n",
        "\n",
        "# Check all possible outcomes where the user chooses 'Scissor'\n",
        "elif user_choice == 'Scissor':\n",
        "    if comp_choice == \"Paper\":\n",
        "        print(\"Scissor cuts Paper = You Win\")\n",
        "    else:  # The only remaining option is 'Rock'\n",
        "        print(\"Rock smashes Scissor = Computer Wins\")\n",
        "\n",
        "# Handle invalid input\n",
        "else:\n",
        "    print(\"Invalid input! Please enter Rock, Paper, or Scissor.\")\n"
      ]
    },
    {
      "cell_type": "code",
      "source": [],
      "metadata": {
        "id": "kSkQBiuwEeWi"
      },
      "execution_count": null,
      "outputs": []
    }
  ]
}